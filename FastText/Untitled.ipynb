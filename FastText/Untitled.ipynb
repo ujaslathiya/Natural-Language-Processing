{
 "cells": [
  {
   "cell_type": "code",
   "execution_count": 2,
   "id": "8c973a23",
   "metadata": {},
   "outputs": [
    {
     "name": "stdout",
     "output_type": "stream",
     "text": [
      "Collecting fasttext\n",
      "  Using cached fasttext-0.9.2.tar.gz (68 kB)\n",
      "  Preparing metadata (setup.py): started\n",
      "  Preparing metadata (setup.py): finished with status 'done'\n",
      "Requirement already satisfied: pybind11>=2.2 in c:\\users\\ujasl\\appdata\\local\\programs\\python\\python311\\lib\\site-packages (from fasttext) (2.11.1)\n",
      "Requirement already satisfied: setuptools>=0.7.0 in c:\\users\\ujasl\\appdata\\local\\programs\\python\\python311\\lib\\site-packages (from fasttext) (65.5.0)\n",
      "Requirement already satisfied: numpy in c:\\users\\ujasl\\appdata\\local\\programs\\python\\python311\\lib\\site-packages (from fasttext) (1.23.5)\n",
      "Building wheels for collected packages: fasttext\n",
      "  Building wheel for fasttext (setup.py): started\n",
      "  Building wheel for fasttext (setup.py): finished with status 'error'\n",
      "  Running setup.py clean for fasttext\n",
      "Failed to build fasttext\n"
     ]
    },
    {
     "name": "stderr",
     "output_type": "stream",
     "text": [
      "  error: subprocess-exited-with-error\n",
      "  \n",
      "  python setup.py bdist_wheel did not run successfully.\n",
      "  exit code: 1\n",
      "  \n",
      "  [62 lines of output]\n",
      "  C:\\Users\\Ujasl\\AppData\\Local\\Programs\\Python\\Python311\\Lib\\site-packages\\setuptools\\dist.py:771: UserWarning: Usage of dash-separated 'description-file' will not be supported in future versions. Please use the underscore name 'description_file' instead\n",
      "    warnings.warn(\n",
      "  running bdist_wheel\n",
      "  running build\n",
      "  running build_py\n",
      "  creating build\n",
      "  creating build\\lib.win-amd64-cpython-311\n",
      "  creating build\\lib.win-amd64-cpython-311\\fasttext\n",
      "  copying python\\fasttext_module\\fasttext\\FastText.py -> build\\lib.win-amd64-cpython-311\\fasttext\n",
      "  copying python\\fasttext_module\\fasttext\\__init__.py -> build\\lib.win-amd64-cpython-311\\fasttext\n",
      "  creating build\\lib.win-amd64-cpython-311\\fasttext\\util\n",
      "  copying python\\fasttext_module\\fasttext\\util\\util.py -> build\\lib.win-amd64-cpython-311\\fasttext\\util\n",
      "  copying python\\fasttext_module\\fasttext\\util\\__init__.py -> build\\lib.win-amd64-cpython-311\\fasttext\\util\n",
      "  creating build\\lib.win-amd64-cpython-311\\fasttext\\tests\n",
      "  copying python\\fasttext_module\\fasttext\\tests\\test_configurations.py -> build\\lib.win-amd64-cpython-311\\fasttext\\tests\n",
      "  copying python\\fasttext_module\\fasttext\\tests\\test_script.py -> build\\lib.win-amd64-cpython-311\\fasttext\\tests\n",
      "  copying python\\fasttext_module\\fasttext\\tests\\__init__.py -> build\\lib.win-amd64-cpython-311\\fasttext\\tests\n",
      "  running build_ext\n",
      "  building 'fasttext_pybind' extension\n",
      "  creating build\\temp.win-amd64-cpython-311\n",
      "  creating build\\temp.win-amd64-cpython-311\\Release\n",
      "  creating build\\temp.win-amd64-cpython-311\\Release\\python\n",
      "  creating build\\temp.win-amd64-cpython-311\\Release\\python\\fasttext_module\n",
      "  creating build\\temp.win-amd64-cpython-311\\Release\\python\\fasttext_module\\fasttext\n",
      "  creating build\\temp.win-amd64-cpython-311\\Release\\python\\fasttext_module\\fasttext\\pybind\n",
      "  creating build\\temp.win-amd64-cpython-311\\Release\\src\n",
      "  \"C:\\Program Files\\Microsoft Visual Studio\\2022\\Community\\VC\\Tools\\MSVC\\14.37.32822\\bin\\HostX86\\x64\\cl.exe\" /c /nologo /O2 /W3 /GL /DNDEBUG /MD -IC:\\Users\\Ujasl\\AppData\\Local\\Programs\\Python\\Python311\\Lib\\site-packages\\pybind11\\include -IC:\\Users\\Ujasl\\AppData\\Local\\Programs\\Python\\Python311\\Lib\\site-packages\\pybind11\\include -Isrc -IC:\\Users\\Ujasl\\AppData\\Local\\Programs\\Python\\Python311\\include -IC:\\Users\\Ujasl\\AppData\\Local\\Programs\\Python\\Python311\\Include \"-IC:\\Program Files\\Microsoft Visual Studio\\2022\\Community\\VC\\Tools\\MSVC\\14.37.32822\\include\" \"-IC:\\Program Files\\Microsoft Visual Studio\\2022\\Community\\VC\\Tools\\MSVC\\14.37.32822\\ATLMFC\\include\" \"-IC:\\Program Files\\Microsoft Visual Studio\\2022\\Community\\VC\\Auxiliary\\VS\\include\" \"-IC:\\Program Files (x86)\\Windows Kits\\10\\include\\10.0.22621.0\\ucrt\" \"-IC:\\Program Files (x86)\\Windows Kits\\10\\\\include\\10.0.22621.0\\\\um\" \"-IC:\\Program Files (x86)\\Windows Kits\\10\\\\include\\10.0.22621.0\\\\shared\" \"-IC:\\Program Files (x86)\\Windows Kits\\10\\\\include\\10.0.22621.0\\\\winrt\" \"-IC:\\Program Files (x86)\\Windows Kits\\10\\\\include\\10.0.22621.0\\\\cppwinrt\" /EHsc /Tppython/fasttext_module/fasttext/pybind/fasttext_pybind.cc /Fobuild\\temp.win-amd64-cpython-311\\Release\\python/fasttext_module/fasttext/pybind/fasttext_pybind.obj /EHsc /DVERSION_INFO=\\\\\\\"0.9.2\\\\\\\"\n",
      "  fasttext_pybind.cc\n",
      "  python/fasttext_module/fasttext/pybind/fasttext_pybind.cc(171): error C2065: 'ssize_t': undeclared identifier\n",
      "  python/fasttext_module/fasttext/pybind/fasttext_pybind.cc(171): error C2672: 'pybind11::init': no matching overloaded function found\n",
      "  C:\\Users\\Ujasl\\AppData\\Local\\Programs\\Python\\Python311\\Lib\\site-packages\\pybind11\\include\\pybind11\\pybind11.h(1932): note: could be 'Ret pybind11::init(CFunc &&,AFunc &&)'\n",
      "  python/fasttext_module/fasttext/pybind/fasttext_pybind.cc(171): note: 'pybind11::init': invalid template argument for 'CFunc', type expected\n",
      "  C:\\Users\\Ujasl\\AppData\\Local\\Programs\\Python\\Python311\\Lib\\site-packages\\pybind11\\include\\pybind11\\pybind11.h(1924): note: or       'Ret pybind11::init(Func &&)'\n",
      "  python/fasttext_module/fasttext/pybind/fasttext_pybind.cc(171): note: 'pybind11::init': invalid template argument for 'Func', type expected\n",
      "  C:\\Users\\Ujasl\\AppData\\Local\\Programs\\Python\\Python311\\Lib\\site-packages\\pybind11\\include\\pybind11\\pybind11.h(1912): note: or       'pybind11::detail::initimpl::constructor<Args...> pybind11::init(void)'\n",
      "  python/fasttext_module/fasttext/pybind/fasttext_pybind.cc(171): note: 'pybind11::init': invalid template argument for 'Args', type expected\n",
      "  python/fasttext_module/fasttext/pybind/fasttext_pybind.cc(171): error C2672: 'pybind11::class_<fasttext::Vector>::def': no matching overloaded function found\n",
      "  C:\\Users\\Ujasl\\AppData\\Local\\Programs\\Python\\Python311\\Lib\\site-packages\\pybind11\\include\\pybind11\\pybind11.h(1631): note: could be 'pybind11::class_<fasttext::Vector> &pybind11::class_<fasttext::Vector>::def(pybind11::detail::initimpl::pickle_factory<Args...> &&,const Extra &...)'\n",
      "  C:\\Users\\Ujasl\\AppData\\Local\\Programs\\Python\\Python311\\Lib\\site-packages\\pybind11\\include\\pybind11\\pybind11.h(1625): note: or       'pybind11::class_<fasttext::Vector> &pybind11::class_<fasttext::Vector>::def(pybind11::detail::initimpl::factory<Args...> &&,const Extra &...)'\n",
      "  C:\\Users\\Ujasl\\AppData\\Local\\Programs\\Python\\Python311\\Lib\\site-packages\\pybind11\\include\\pybind11\\pybind11.h(1618): note: or       'pybind11::class_<fasttext::Vector> &pybind11::class_<fasttext::Vector>::def(const pybind11::detail::initimpl::alias_constructor<Args...> &,const Extra &...)'\n",
      "  C:\\Users\\Ujasl\\AppData\\Local\\Programs\\Python\\Python311\\Lib\\site-packages\\pybind11\\include\\pybind11\\pybind11.h(1611): note: or       'pybind11::class_<fasttext::Vector> &pybind11::class_<fasttext::Vector>::def(const pybind11::detail::initimpl::constructor<Args...> &,const Extra &...)'\n",
      "  C:\\Users\\Ujasl\\AppData\\Local\\Programs\\Python\\Python311\\Lib\\site-packages\\pybind11\\include\\pybind11\\pybind11.h(1599): note: or       'pybind11::class_<fasttext::Vector> &pybind11::class_<fasttext::Vector>::def(const T &,const Extra &...)'\n",
      "  C:\\Users\\Ujasl\\AppData\\Local\\Programs\\Python\\Python311\\Lib\\site-packages\\pybind11\\include\\pybind11\\pybind11.h(1574): note: or       'pybind11::class_<fasttext::Vector> &pybind11::class_<fasttext::Vector>::def(const char *,Func &&,const Extra &...)'\n",
      "  python/fasttext_module/fasttext/pybind/fasttext_pybind.cc(171): note: 'pybind11::class_<fasttext::Vector> &pybind11::class_<fasttext::Vector>::def(const char *,Func &&,const Extra &...)': expects 3 arguments - 1 provided\n",
      "  python/fasttext_module/fasttext/pybind/fasttext_pybind.cc(185): error C2065: 'ssize_t': undeclared identifier\n",
      "  python/fasttext_module/fasttext/pybind/fasttext_pybind.cc(185): error C2065: 'ssize_t': undeclared identifier\n",
      "  python/fasttext_module/fasttext/pybind/fasttext_pybind.cc(185): error C2672: 'pybind11::init': no matching overloaded function found\n",
      "  C:\\Users\\Ujasl\\AppData\\Local\\Programs\\Python\\Python311\\Lib\\site-packages\\pybind11\\include\\pybind11\\pybind11.h(1932): note: could be 'Ret pybind11::init(CFunc &&,AFunc &&)'\n",
      "  python/fasttext_module/fasttext/pybind/fasttext_pybind.cc(185): note: 'pybind11::init': invalid template argument for 'CFunc', type expected\n",
      "  C:\\Users\\Ujasl\\AppData\\Local\\Programs\\Python\\Python311\\Lib\\site-packages\\pybind11\\include\\pybind11\\pybind11.h(1924): note: or       'Ret pybind11::init(Func &&)'\n",
      "  python/fasttext_module/fasttext/pybind/fasttext_pybind.cc(185): note: 'pybind11::init': invalid template argument for 'Func', type expected\n",
      "  C:\\Users\\Ujasl\\AppData\\Local\\Programs\\Python\\Python311\\Lib\\site-packages\\pybind11\\include\\pybind11\\pybind11.h(1912): note: or       'pybind11::detail::initimpl::constructor<Args...> pybind11::init(void)'\n",
      "  python/fasttext_module/fasttext/pybind/fasttext_pybind.cc(185): note: 'pybind11::init': invalid template argument for 'Args', type expected\n",
      "  python/fasttext_module/fasttext/pybind/fasttext_pybind.cc(185): error C2672: 'pybind11::class_<fasttext::DenseMatrix>::def': no matching overloaded function found\n",
      "  C:\\Users\\Ujasl\\AppData\\Local\\Programs\\Python\\Python311\\Lib\\site-packages\\pybind11\\include\\pybind11\\pybind11.h(1631): note: could be 'pybind11::class_<fasttext::DenseMatrix> &pybind11::class_<fasttext::DenseMatrix>::def(pybind11::detail::initimpl::pickle_factory<Args...> &&,const Extra &...)'\n",
      "  C:\\Users\\Ujasl\\AppData\\Local\\Programs\\Python\\Python311\\Lib\\site-packages\\pybind11\\include\\pybind11\\pybind11.h(1625): note: or       'pybind11::class_<fasttext::DenseMatrix> &pybind11::class_<fasttext::DenseMatrix>::def(pybind11::detail::initimpl::factory<Args...> &&,const Extra &...)'\n",
      "  C:\\Users\\Ujasl\\AppData\\Local\\Programs\\Python\\Python311\\Lib\\site-packages\\pybind11\\include\\pybind11\\pybind11.h(1618): note: or       'pybind11::class_<fasttext::DenseMatrix> &pybind11::class_<fasttext::DenseMatrix>::def(const pybind11::detail::initimpl::alias_constructor<Args...> &,const Extra &...)'\n",
      "  C:\\Users\\Ujasl\\AppData\\Local\\Programs\\Python\\Python311\\Lib\\site-packages\\pybind11\\include\\pybind11\\pybind11.h(1611): note: or       'pybind11::class_<fasttext::DenseMatrix> &pybind11::class_<fasttext::DenseMatrix>::def(const pybind11::detail::initimpl::constructor<Args...> &,const Extra &...)'\n",
      "  C:\\Users\\Ujasl\\AppData\\Local\\Programs\\Python\\Python311\\Lib\\site-packages\\pybind11\\include\\pybind11\\pybind11.h(1599): note: or       'pybind11::class_<fasttext::DenseMatrix> &pybind11::class_<fasttext::DenseMatrix>::def(const T &,const Extra &...)'\n",
      "  C:\\Users\\Ujasl\\AppData\\Local\\Programs\\Python\\Python311\\Lib\\site-packages\\pybind11\\include\\pybind11\\pybind11.h(1574): note: or       'pybind11::class_<fasttext::DenseMatrix> &pybind11::class_<fasttext::DenseMatrix>::def(const char *,Func &&,const Extra &...)'\n",
      "  python/fasttext_module/fasttext/pybind/fasttext_pybind.cc(185): note: 'pybind11::class_<fasttext::DenseMatrix> &pybind11::class_<fasttext::DenseMatrix>::def(const char *,Func &&,const Extra &...)': expects 3 arguments - 1 provided\n",
      "  error: command 'C:\\\\Program Files\\\\Microsoft Visual Studio\\\\2022\\\\Community\\\\VC\\\\Tools\\\\MSVC\\\\14.37.32822\\\\bin\\\\HostX86\\\\x64\\\\cl.exe' failed with exit code 2\n",
      "  [end of output]\n",
      "  \n",
      "  note: This error originates from a subprocess, and is likely not a problem with pip.\n",
      "  ERROR: Failed building wheel for fasttext\n",
      "ERROR: Could not build wheels for fasttext, which is required to install pyproject.toml-based projects\n"
     ]
    }
   ],
   "source": [
    "!pip install fasttext\n"
   ]
  },
  {
   "cell_type": "code",
   "execution_count": null,
   "id": "77a4e51e",
   "metadata": {},
   "outputs": [],
   "source": []
  }
 ],
 "metadata": {
  "kernelspec": {
   "display_name": "Python 3 (ipykernel)",
   "language": "python",
   "name": "python3"
  },
  "language_info": {
   "codemirror_mode": {
    "name": "ipython",
    "version": 3
   },
   "file_extension": ".py",
   "mimetype": "text/x-python",
   "name": "python",
   "nbconvert_exporter": "python",
   "pygments_lexer": "ipython3",
   "version": "3.11.2"
  }
 },
 "nbformat": 4,
 "nbformat_minor": 5
}
