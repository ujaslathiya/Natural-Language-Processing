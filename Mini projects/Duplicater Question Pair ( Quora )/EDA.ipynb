{
 "cells": [
  {
   "cell_type": "code",
   "execution_count": 1,
   "id": "9601f164",
   "metadata": {},
   "outputs": [],
   "source": [
    "import pandas as pd\n",
    "import numpy as np\n",
    "from matplotlib import pyplot as plt"
   ]
  },
  {
   "cell_type": "code",
   "execution_count": 4,
   "id": "d3e0ce55",
   "metadata": {
    "scrolled": true
   },
   "outputs": [
    {
     "data": {
      "text/html": [
       "<div>\n",
       "<style scoped>\n",
       "    .dataframe tbody tr th:only-of-type {\n",
       "        vertical-align: middle;\n",
       "    }\n",
       "\n",
       "    .dataframe tbody tr th {\n",
       "        vertical-align: top;\n",
       "    }\n",
       "\n",
       "    .dataframe thead th {\n",
       "        text-align: right;\n",
       "    }\n",
       "</style>\n",
       "<table border=\"1\" class=\"dataframe\">\n",
       "  <thead>\n",
       "    <tr style=\"text-align: right;\">\n",
       "      <th></th>\n",
       "      <th>id</th>\n",
       "      <th>qid1</th>\n",
       "      <th>qid2</th>\n",
       "      <th>question1</th>\n",
       "      <th>question2</th>\n",
       "      <th>is_duplicate</th>\n",
       "    </tr>\n",
       "  </thead>\n",
       "  <tbody>\n",
       "    <tr>\n",
       "      <th>2475</th>\n",
       "      <td>2475</td>\n",
       "      <td>4918</td>\n",
       "      <td>4919</td>\n",
       "      <td>How often does an ATM make a mistake in receiv...</td>\n",
       "      <td>How can you find if there is cash in your near...</td>\n",
       "      <td>0</td>\n",
       "    </tr>\n",
       "    <tr>\n",
       "      <th>44058</th>\n",
       "      <td>44058</td>\n",
       "      <td>79163</td>\n",
       "      <td>56262</td>\n",
       "      <td>What is the meaning of polindrome?</td>\n",
       "      <td>What is the meaning of \"what's up\"?</td>\n",
       "      <td>0</td>\n",
       "    </tr>\n",
       "    <tr>\n",
       "      <th>203642</th>\n",
       "      <td>203642</td>\n",
       "      <td>306326</td>\n",
       "      <td>306327</td>\n",
       "      <td>What is the best Python framework to develop a...</td>\n",
       "      <td>Right now is it better to learn Python or HTML...</td>\n",
       "      <td>0</td>\n",
       "    </tr>\n",
       "    <tr>\n",
       "      <th>59473</th>\n",
       "      <td>59473</td>\n",
       "      <td>104156</td>\n",
       "      <td>104157</td>\n",
       "      <td>How can I increase my comprehension?</td>\n",
       "      <td>How can I improve my comprehension?</td>\n",
       "      <td>1</td>\n",
       "    </tr>\n",
       "    <tr>\n",
       "      <th>235341</th>\n",
       "      <td>235341</td>\n",
       "      <td>120669</td>\n",
       "      <td>5513</td>\n",
       "      <td>How can I hack my friends phone?</td>\n",
       "      <td>How can I hack mobile phone?</td>\n",
       "      <td>1</td>\n",
       "    </tr>\n",
       "    <tr>\n",
       "      <th>186012</th>\n",
       "      <td>186012</td>\n",
       "      <td>283840</td>\n",
       "      <td>283841</td>\n",
       "      <td>What is offside in football?</td>\n",
       "      <td>What is an offside in football?</td>\n",
       "      <td>1</td>\n",
       "    </tr>\n",
       "    <tr>\n",
       "      <th>365524</th>\n",
       "      <td>365524</td>\n",
       "      <td>495641</td>\n",
       "      <td>495642</td>\n",
       "      <td>What's the purpose of a protective tariff? Wha...</td>\n",
       "      <td>What's the purpose of a protective tariff?</td>\n",
       "      <td>0</td>\n",
       "    </tr>\n",
       "    <tr>\n",
       "      <th>213225</th>\n",
       "      <td>213225</td>\n",
       "      <td>318493</td>\n",
       "      <td>318494</td>\n",
       "      <td>What are some tips to prepare for TATA Summer ...</td>\n",
       "      <td>How do I prepare for a phone call with a KPMG ...</td>\n",
       "      <td>0</td>\n",
       "    </tr>\n",
       "    <tr>\n",
       "      <th>28716</th>\n",
       "      <td>28716</td>\n",
       "      <td>53220</td>\n",
       "      <td>53221</td>\n",
       "      <td>What is the app Evernote about?</td>\n",
       "      <td>What we can do with the Evernote app?</td>\n",
       "      <td>0</td>\n",
       "    </tr>\n",
       "    <tr>\n",
       "      <th>74590</th>\n",
       "      <td>74590</td>\n",
       "      <td>127800</td>\n",
       "      <td>127801</td>\n",
       "      <td>How do I prove that I'm gay to my friends and ...</td>\n",
       "      <td>What is the best way to tell my friends and pa...</td>\n",
       "      <td>0</td>\n",
       "    </tr>\n",
       "  </tbody>\n",
       "</table>\n",
       "</div>"
      ],
      "text/plain": [
       "            id    qid1    qid2  \\\n",
       "2475      2475    4918    4919   \n",
       "44058    44058   79163   56262   \n",
       "203642  203642  306326  306327   \n",
       "59473    59473  104156  104157   \n",
       "235341  235341  120669    5513   \n",
       "186012  186012  283840  283841   \n",
       "365524  365524  495641  495642   \n",
       "213225  213225  318493  318494   \n",
       "28716    28716   53220   53221   \n",
       "74590    74590  127800  127801   \n",
       "\n",
       "                                                question1  \\\n",
       "2475    How often does an ATM make a mistake in receiv...   \n",
       "44058                  What is the meaning of polindrome?   \n",
       "203642  What is the best Python framework to develop a...   \n",
       "59473                How can I increase my comprehension?   \n",
       "235341                   How can I hack my friends phone?   \n",
       "186012                       What is offside in football?   \n",
       "365524  What's the purpose of a protective tariff? Wha...   \n",
       "213225  What are some tips to prepare for TATA Summer ...   \n",
       "28716                     What is the app Evernote about?   \n",
       "74590   How do I prove that I'm gay to my friends and ...   \n",
       "\n",
       "                                                question2  is_duplicate  \n",
       "2475    How can you find if there is cash in your near...             0  \n",
       "44058                 What is the meaning of \"what's up\"?             0  \n",
       "203642  Right now is it better to learn Python or HTML...             0  \n",
       "59473                 How can I improve my comprehension?             1  \n",
       "235341                       How can I hack mobile phone?             1  \n",
       "186012                    What is an offside in football?             1  \n",
       "365524         What's the purpose of a protective tariff?             0  \n",
       "213225  How do I prepare for a phone call with a KPMG ...             0  \n",
       "28716               What we can do with the Evernote app?             0  \n",
       "74590   What is the best way to tell my friends and pa...             0  "
      ]
     },
     "execution_count": 4,
     "metadata": {},
     "output_type": "execute_result"
    }
   ],
   "source": [
    "df = pd.read_csv('./train.csv/train.csv')\n",
    "df.sample(10)"
   ]
  },
  {
   "cell_type": "code",
   "execution_count": 12,
   "id": "6a91055b",
   "metadata": {},
   "outputs": [
    {
     "data": {
      "text/plain": [
       "(404290, 6)"
      ]
     },
     "execution_count": 12,
     "metadata": {},
     "output_type": "execute_result"
    }
   ],
   "source": [
    "df.shape"
   ]
  },
  {
   "cell_type": "code",
   "execution_count": 5,
   "id": "44c4c437",
   "metadata": {},
   "outputs": [
    {
     "name": "stdout",
     "output_type": "stream",
     "text": [
      "<class 'pandas.core.frame.DataFrame'>\n",
      "RangeIndex: 404290 entries, 0 to 404289\n",
      "Data columns (total 6 columns):\n",
      " #   Column        Non-Null Count   Dtype \n",
      "---  ------        --------------   ----- \n",
      " 0   id            404290 non-null  int64 \n",
      " 1   qid1          404290 non-null  int64 \n",
      " 2   qid2          404290 non-null  int64 \n",
      " 3   question1     404289 non-null  object\n",
      " 4   question2     404288 non-null  object\n",
      " 5   is_duplicate  404290 non-null  int64 \n",
      "dtypes: int64(4), object(2)\n",
      "memory usage: 18.5+ MB\n"
     ]
    }
   ],
   "source": [
    "df.info()"
   ]
  },
  {
   "cell_type": "code",
   "execution_count": 7,
   "id": "925df206",
   "metadata": {},
   "outputs": [
    {
     "data": {
      "text/plain": [
       "id              0\n",
       "qid1            0\n",
       "qid2            0\n",
       "question1       1\n",
       "question2       2\n",
       "is_duplicate    0\n",
       "dtype: int64"
      ]
     },
     "execution_count": 7,
     "metadata": {},
     "output_type": "execute_result"
    }
   ],
   "source": [
    "df.isna().sum()"
   ]
  },
  {
   "cell_type": "code",
   "execution_count": 8,
   "id": "84865d51",
   "metadata": {},
   "outputs": [
    {
     "data": {
      "text/plain": [
       "0"
      ]
     },
     "execution_count": 8,
     "metadata": {},
     "output_type": "execute_result"
    }
   ],
   "source": [
    "df.duplicated().sum()"
   ]
  },
  {
   "cell_type": "code",
   "execution_count": 11,
   "id": "7ce9869c",
   "metadata": {},
   "outputs": [
    {
     "data": {
      "text/plain": [
       "0    255027\n",
       "1    149263\n",
       "Name: is_duplicate, dtype: int64"
      ]
     },
     "execution_count": 11,
     "metadata": {},
     "output_type": "execute_result"
    },
    {
     "data": {
      "image/png": "[encoded data removed]",
      "text/plain": [
       "<Figure size 640x480 with 1 Axes>"
      ]
     },
     "metadata": {},
     "output_type": "display_data"
    }
   ],
   "source": [
    "# distribution of duplicate and non duplicate questions\n",
    "\n",
    "df['is_duplicate'].value_counts().plot(kind='bar')\n",
    "df['is_duplicate'].value_counts()"
   ]
  },
  {
   "cell_type": "code",
   "execution_count": 17,
   "id": "71ea7b0d",
   "metadata": {},
   "outputs": [
    {
     "name": "stdout",
     "output_type": "stream",
     "text": [
      "Number of unique questions :  537933\n"
     ]
    }
   ],
   "source": [
    "# number of unique questions \n",
    "\n",
    "qid = pd.Series(df['qid1'].tolist() + df['qid2'].tolist())\n",
    "print(\"Number of unique questions : \", np.unique(qid).shape[0])"
   ]
  },
  {
   "cell_type": "code",
   "execution_count": 24,
   "id": "f56b5408",
   "metadata": {},
   "outputs": [
    {
     "name": "stdout",
     "output_type": "stream",
     "text": [
      "Number of duplicated questions :  111780\n"
     ]
    }
   ],
   "source": [
    "# number of duplicated questions\n",
    "\n",
    "x = qid.value_counts()>1\n",
    "print(\"Number of duplicated questions : \", x[x].shape[0] )"
   ]
  },
  {
   "cell_type": "code",
   "execution_count": 28,
   "id": "3f60991f",
   "metadata": {},
   "outputs": [
    {
     "data": {
      "image/png": "[encoded data removed]",
      "text/plain": [
       "<Figure size 640x480 with 1 Axes>"
      ]
     },
     "metadata": {},
     "output_type": "display_data"
    }
   ],
   "source": [
    "# How many time questions repeated\n",
    "\n",
    "plt.hist(qid.value_counts().values,bins=160)\n",
    "plt.xlabel('Number of times questions repeating')\n",
    "plt.ylabel('number of questions')\n",
    "plt.yscale('log')\n",
    "plt.show()"
   ]
  },
  {
   "cell_type": "code",
   "execution_count": null,
   "id": "87790e0d",
   "metadata": {},
   "outputs": [],
   "source": []
  }
 ],
 "metadata": {
  "kernelspec": {
   "display_name": "Python 3 (ipykernel)",
   "language": "python",
   "name": "python3"
  },
  "language_info": {
   "codemirror_mode": {
    "name": "ipython",
    "version": 3
   },
   "file_extension": ".py",
   "mimetype": "text/x-python",
   "name": "python",
   "nbconvert_exporter": "python",
   "pygments_lexer": "ipython3",
   "version": "3.11.2"
  }
 },
 "nbformat": 4,
 "nbformat_minor": 5
}
