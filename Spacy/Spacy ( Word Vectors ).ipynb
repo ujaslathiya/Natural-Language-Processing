{
 "cells": [
  {
   "cell_type": "code",
   "execution_count": 1,
   "id": "e9e189ae",
   "metadata": {},
   "outputs": [],
   "source": [
    "import spacy\n",
    "\n",
    "nlp = spacy.load(\"en_core_web_lg\")"
   ]
  },
  {
   "cell_type": "code",
   "execution_count": 3,
   "id": "4954c9be",
   "metadata": {},
   "outputs": [
    {
     "name": "stdout",
     "output_type": "stream",
     "text": [
      "dog True False\n",
      "cat True False\n",
      "banana True False\n",
      "ujas False True\n"
     ]
    }
   ],
   "source": [
    "doc = nlp(\"dog cat banana ujas\")\n",
    "\n",
    "for token in doc:\n",
    "    print(token.text,token.has_vector,token.is_oov)"
   ]
  },
  {
   "cell_type": "code",
   "execution_count": 4,
   "id": "f3b1ac24",
   "metadata": {},
   "outputs": [],
   "source": [
    "doc2 = nlp(\"bread\")"
   ]
  },
  {
   "cell_type": "code",
   "execution_count": 6,
   "id": "634fe5d9",
   "metadata": {},
   "outputs": [
    {
     "name": "stdout",
     "output_type": "stream",
     "text": [
      "bread <-> bread :  0.9999999744752309\n",
      "sandwich <-> bread :  0.634106782477101\n",
      "burger <-> bread :  0.4752069113758708\n",
      "car <-> bread :  0.06451533308853552\n",
      "tiger <-> bread :  0.04764611675903374\n",
      "human <-> bread :  0.2151154210812192\n",
      "wheat <-> bread :  0.6150360888607199\n"
     ]
    }
   ],
   "source": [
    "doc3 = nlp(\"bread sandwich burger car tiger human wheat\")\n",
    "\n",
    "for token in doc3:\n",
    "    print(f\"{token.text} <-> {doc2.text} : \", token.similarity(doc2) )"
   ]
  },
  {
   "cell_type": "code",
   "execution_count": null,
   "id": "38392724",
   "metadata": {},
   "outputs": [],
   "source": []
  }
 ],
 "metadata": {
  "kernelspec": {
   "display_name": "Python 3 (ipykernel)",
   "language": "python",
   "name": "python3"
  },
  "language_info": {
   "codemirror_mode": {
    "name": "ipython",
    "version": 3
   },
   "file_extension": ".py",
   "mimetype": "text/x-python",
   "name": "python",
   "nbconvert_exporter": "python",
   "pygments_lexer": "ipython3",
   "version": "3.11.2"
  }
 },
 "nbformat": 4,
 "nbformat_minor": 5
}
